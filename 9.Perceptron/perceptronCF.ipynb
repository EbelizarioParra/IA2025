{
 "cells": [
  {
   "cell_type": "code",
   "execution_count": null,
   "id": "31e788b1",
   "metadata": {},
   "outputs": [],
   "source": [
    "# PERCEPTRON - RED NEURONAL BASICA"
   ]
  },
  {
   "cell_type": "code",
   "execution_count": null,
   "id": "16a85fed",
   "metadata": {},
   "outputs": [],
   "source": [
    "import numpy as np\n",
    "import tensorflow as tf\n",
    "from tensorflow import keras"
   ]
  },
  {
   "cell_type": "code",
   "execution_count": null,
   "id": "28800ef6",
   "metadata": {},
   "outputs": [],
   "source": [
    "celsius_train = np.array([-40, -30, -20, -10, 0, 8, 15, 22, 30, 38], dtype=float)\n",
    "fahrenheit_train = np.array([-40, -22, -4, 14, 32, 46.4, 59, 71.6, 86, 100.4], dtype=float)"
   ]
  },
  {
   "cell_type": "code",
   "execution_count": null,
   "id": "ddd919ec",
   "metadata": {},
   "outputs": [],
   "source": [
    "model = keras.Sequential([\n",
    "    keras.layers.Dense(16, activation='relu', input_shape=[1]),\n",
    "    keras.layers.Dense(32, activation='relu'),\n",
    "    keras.layers.Dense(64, activation='relu'),\n",
    "    keras.layers.Dense(32, activation='relu'),\n",
    "    keras.layers.Dense(1)\n",
    "])"
   ]
  },
  {
   "cell_type": "code",
   "execution_count": null,
   "id": "1627464a",
   "metadata": {},
   "outputs": [],
   "source": [
    "optimizer = keras.optimizers.Adam(learning_rate=0.001)\n",
    "model.compile(optimizer=optimizer, loss='mean_squared_error')"
   ]
  },
  {
   "cell_type": "code",
   "execution_count": null,
   "id": "61fe04da",
   "metadata": {},
   "outputs": [],
   "source": [
    "# Entrenamiento del modelo con 500 épocas\n",
    "model.fit(celsius_train, fahrenheit_train, epochs=500)"
   ]
  },
  {
   "cell_type": "code",
   "execution_count": null,
   "id": "c3fef785",
   "metadata": {},
   "outputs": [],
   "source": [
    "celsius_test = np.array([10, 50, 100], dtype=float)\n",
    "fahrenheit_pred = model.predict(celsius_test)\n",
    "for celsius, fahrenheit in zip(celsius_test, fahrenheit_pred):\n",
    "    print(f\"{celsius} Celsius = {fahrenheit[0]} Fahrenheit\")"
   ]
  }
 ],
 "metadata": {},
 "nbformat": 4,
 "nbformat_minor": 5
}
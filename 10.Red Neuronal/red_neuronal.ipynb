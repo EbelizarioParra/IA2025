{
 "cells": [
  {
   "cell_type": "code",
   "execution_count": null,
   "id": "4b35a253",
   "metadata": {},
   "outputs": [],
   "source": [
    "\n",
    "# Red neuronal básica para clasificar números como pares o impares\n",
    "\n",
    "# Importar librerías necesarias\n",
    "import numpy as np\n",
    "from tensorflow.keras.models import Sequential\n",
    "from tensorflow.keras.layers import Dense\n",
    "\n",
    "# Preparar los datos de entrada (0 al 9)\n",
    "X = np.array([[i] for i in range(10)])  # Entradas\n",
    "y = np.array([[1 if i % 2 == 0 else 0] for i in range(10)])  # 1 si es par, 0 si es impar\n",
    "\n",
    "# Definir el modelo secuencial\n",
    "modelo = Sequential()\n",
    "modelo.add(Dense(units=10, activation='relu', input_dim=1))  # Capa oculta con 10 neuronas\n",
    "modelo.add(Dense(units=1, activation='sigmoid'))  # Capa de salida con activación sigmoide\n",
    "\n",
    "# Compilar el modelo con función de pérdida y optimizador\n",
    "modelo.compile(optimizer='adam', loss='binary_crossentropy', metrics=['accuracy'])\n",
    "\n",
    "# Entrenar el modelo con los datos\n",
    "modelo.fit(X, y, epochs=100, verbose=0)\n",
    "\n",
    "# Probar con nuevos valores\n",
    "nuevos = np.array([[10], [11], [25]])\n",
    "predicciones = modelo.predict(nuevos)\n",
    "\n",
    "# Mostrar los resultados de las predicciones\n",
    "for i, valor in enumerate(nuevos):\n",
    "    resultado = 'Par' if predicciones[i][0] > 0.5 else 'Impar'\n",
    "    probabilidad = predicciones[i][0]\n",
    "    print(f\"{valor[0]} ➝ {resultado} (probabilidad: {probabilidad:.2f})\")\n"
   ]
  }
 ],
 "metadata": {},
 "nbformat": 4,
 "nbformat_minor": 5
}

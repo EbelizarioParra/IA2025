
{
 "nbformat": 4,
 "nbformat_minor": 0,
 "metadata": {
  "kernelspec": {
   "name": "python3",
   "display_name": "Python 3"
  },
  "language_info": {
   "name": "python",
   "version": ""
  }
 },
 "cells": [
  {
   "cell_type": "markdown",
   "metadata": {},
   "source": [
    "# Red Neuronal simple con Keras\n",
    "Este cuaderno implementa una red neuronal para clasificar números como pares o impares."
   ]
  },
  {
   "cell_type": "code",
   "execution_count": null,
   "metadata": {},
   "outputs": [],
   "source": [
    "import numpy as np\n",
    "from tensorflow.keras.models import Sequential\n",
    "from tensorflow.keras.layers import Dense"
   ]
  },
  {
   "cell_type": "code",
   "execution_count": null,
   "metadata": {},
   "outputs": [],
   "source": [
    "# Datos de entrada y salida\n",
    "X = np.array([[i] for i in range(10)])\n",
    "y = np.array([[1 if i % 2 == 0 else 0] for i in range(10)])"
   ]
  },
  {
   "cell_type": "code",
   "execution_count": null,
   "metadata": {},
   "outputs": [],
   "source": [
    "# Crear modelo secuencial\n",
    "modelo = Sequential()\n",
    "modelo.add(Dense(10, input_dim=1, activation='relu'))\n",
    "modelo.add(Dense(1, activation='sigmoid'))"
   ]
  },
  {
   "cell_type": "code",
   "execution_count": null,
   "metadata": {},
   "outputs": [],
   "source": [
    "# Compilar modelo\n",
    "modelo.compile(loss='binary_crossentropy', optimizer='adam', metrics=['accuracy'])\n",
    "modelo.fit(X, y, epochs=100, verbose=0)"
   ]
  },
  {
   "cell_type": "code",
   "execution_count": null,
   "metadata": {},
   "outputs": [],
   "source": [
    "# Prueba con nuevos valores\n",
    "nuevos = np.array([[10], [11], [25]])\n",
    "predicciones = modelo.predict(nuevos)\n",
    "for i, valor in enumerate(nuevos):\n",
    "    print(f"{valor[0]} ➝ {'Par' if predicciones[i][0] > 0.5 else 'Impar'} (probabilidad: {predicciones[i][0]:.2f})")"
   ]
  }
 ]
}

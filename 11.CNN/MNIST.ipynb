{
 "cells": [
  {
   "cell_type": "code",
   "execution_count": null,
   "id": "2238b90d",
   "metadata": {},
   "outputs": [],
   "source": [
    "# Instalación de dependencias\n",
    "!pip install tensorflow matplotlib"
   ]
  },
  {
   "cell_type": "code",
   "execution_count": null,
   "id": "edf09eea",
   "metadata": {},
   "outputs": [],
   "source": [
    "import tensorflow as tf\n",
    "from tensorflow.keras.datasets import mnist\n",
    "from tensorflow.keras.utils import to_categorical\n",
    "\n",
    "# Cargar datos\n",
    "(x_train, y_train), (x_test, y_test) = mnist.load_data()\n",
    "\n",
    "# Normalizar imágenes (0-255 a 0-1)\n",
    "x_train = x_train / 255.0\n",
    "x_test = x_test / 255.0\n",
    "\n",
    "# Codificar etiquetas en formato one-hot\n",
    "y_train_cat = to_categorical(y_train, 10)\n",
    "y_test_cat = to_categorical(y_test, 10)"
   ]
  },
  {
   "cell_type": "code",
   "execution_count": null,
   "id": "d7813f11",
   "metadata": {},
   "outputs": [],
   "source": [
    "from tensorflow.keras.models import Sequential\n",
    "from tensorflow.keras.layers import Dense, Flatten\n",
    "\n",
    "# Definir la arquitectura de la red neuronal\n",
    "RedNeuronal = Sequential([\n",
    "    Flatten(input_shape=(28, 28)),     # Convertir imagen 28x28 en vector de 784 elementos\n",
    "    Dense(128, activation='relu'),     # Capa oculta con 128 neuronas y ReLU\n",
    "    Dense(10, activation='softmax')    # Capa de salida para 10 clases\n",
    "])"
   ]
  },
  {
   "cell_type": "code",
   "execution_count": null,
   "id": "61b92779",
   "metadata": {},
   "outputs": [],
   "source": [
    "# Compilar el modelo\n",
    "RedNeuronal.compile(optimizer='adam',\n",
    "                    loss='categorical_crossentropy',\n",
    "                    metrics=['accuracy'])"
   ]
  },
  {
   "cell_type": "code",
   "execution_count": null,
   "id": "75f64205",
   "metadata": {},
   "outputs": [],
   "source": [
    "# Entrenar el modelo\n",
    "RedNeuronal.fit(x_train, y_train_cat, epochs=5, batch_size=32, validation_split=0.1)"
   ]
  },
  {
   "cell_type": "code",
   "execution_count": null,
   "id": "aacc18ad",
   "metadata": {},
   "outputs": [],
   "source": [
    "# Evaluar el modelo en el conjunto de prueba\n",
    "test_loss, test_acc = RedNeuronal.evaluate(x_test, y_test_cat)\n",
    "print(f'\\nPrecisión en los datos de prueba: {test_acc:.2f}')"
   ]
  },
  {
   "cell_type": "code",
   "execution_count": null,
   "id": "b4f65d3c",
   "metadata": {},
   "outputs": [],
   "source": [
    "import numpy as np\n",
    "import matplotlib.pyplot as plt\n",
    "\n",
    "# Seleccionar una imagen del conjunto de prueba\n",
    "imagen = x_test[0]\n",
    "\n",
    "# Mostrar la imagen\n",
    "plt.imshow(imagen, cmap='gray')\n",
    "plt.title('Imagen de prueba')\n",
    "plt.axis('off')\n",
    "plt.show()\n",
    "\n",
    "# Realizar predicción\n",
    "prediccion = RedNeuronal.predict(np.array([imagen]))\n",
    "print(\"Predicción:\", np.argmax(prediccion))\n",
    "print(\"Etiqueta real:\", y_test[0])"
   ]
  }
 ],
 "metadata": {},
 "nbformat": 4,
 "nbformat_minor": 5
}

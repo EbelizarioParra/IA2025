
{
 "cells": [
  {
   "cell_type": "markdown",
   "metadata": {},
   "source": [
    "# Red Semántica Interactiva\n",
    "Reescribiendo el código original para mantener la funcionalidad con mejor estructura y legibilidad."
   ]
  },
  {
   "cell_type": "code",
   "execution_count": null,
   "metadata": {},
   "outputs": [],
   "source": [
    "# Definición de la red semántica como un diccionario\n",
    "red_semantica = {\n",
    "    "perro": {\n",
    "        "es_un": "mamífero",\n",
    "        "tiene": ["cuatro patas", "pelaje"],\n",
    "        "puede": ["ladrar", "correr"]\n",
    "    },\n",
    "    "gato": {\n",
    "        "es_un": "mamífero",\n",
    "        "tiene": ["bigotes", "pelaje"],\n",
    "        "puede": ["maullar", "saltar"]\n",
    "    },\n",
    "    "mamífero": {\n",
    "        "es_un": "animal",\n",
    "        "características": ["sangre caliente", "amamanta a sus crías"]\n",
    "    },\n",
    "    "animal": {\n",
    "        "características": ["está vivo", "se mueve"]\n",
    "    }\n",
    "}"
   ]
  },
  {
   "cell_type": "code",
   "execution_count": null,
   "metadata": {},
   "outputs": [],
   "source": [
    "# Función para explorar las relaciones de un concepto\n",
    "def explorar_relaciones(concepto):\n",
    "    relaciones = red_semantica.get(concepto)\n",
    "    if relaciones:\n",
    "        print(f"Relaciones del concepto '{concepto}':")\n",
    "        for tipo, detalles in relaciones.items():\n",
    "            print(f"  - {tipo}: {detalles}")\n",
    "    else:\n",
    "        print(f"El concepto '{concepto}' no se encuentra en la red semántica.")"
   ]
  },
  {
   "cell_type": "code",
   "execution_count": null,
   "metadata": {},
   "outputs": [],
   "source": [
    "# Ejemplos de uso\n",
    "explorar_relaciones("perro")\n",
    "print()\n",
    "explorar_relaciones("mamífero")"
   ]
  }
 ],
 "metadata": {
  "kernelspec": {
   "display_name": "Python 3",
   "language": "python",
   "name": "python3"
  },
  "language_info": {
   "name": "python",
   "version": ""
  }
 },
 "nbformat": 4,
 "nbformat_minor": 4
}

{
 "cells": [
  {
   "cell_type": "code",
   "execution_count": null,
   "id": "f2e78e9b",
   "metadata": {},
   "outputs": [],
   "source": [
    "\n",
    "# Ebelizario Parra Martínez\n",
    "# Regresión lineal: Modelar la relación entre variables independientes (X) y dependiente (Y) mediante una línea recta\n",
    "\n",
    "import numpy as np\n",
    "import matplotlib.pyplot as plt\n",
    "from sklearn.linear_model import LinearRegression\n",
    "\n",
    "# Datos de entrada y salida\n",
    "x_valores = np.array([1, 2, 3, 4, 5]).reshape(-1, 1)\n",
    "y_valores = np.array([1.5, 3.0, 4.5, 6.0, 7.5])\n",
    "\n",
    "# Inicialización y entrenamiento del modelo\n",
    "regresion = LinearRegression()\n",
    "regresion.fit(x_valores, y_valores)\n",
    "\n",
    "# Generar predicciones\n",
    "y_pred = regresion.predict(x_valores)\n",
    "\n",
    "# Mostrar parámetros del modelo\n",
    "print(f\"Coeficiente (pendiente): {regresion.coef_[0]}\")\n",
    "print(f\"Intersección: {regresion.intercept_}\")\n",
    "\n",
    "# Visualización del resultado\n",
    "plt.figure(figsize=(8, 6))\n",
    "plt.scatter(x_valores, y_valores, color='blue', label='Datos originales')\n",
    "plt.plot(x_valores, y_pred, color='red', label='Línea de regresión')\n",
    "plt.title('Regresión Lineal')\n",
    "plt.xlabel('Variable X')\n",
    "plt.ylabel('Variable Y')\n",
    "plt.legend()\n",
    "plt.grid(True)\n",
    "plt.show()\n"
   ]
  }
 ],
 "metadata": {},
 "nbformat": 4,
 "nbformat_minor": 5
}

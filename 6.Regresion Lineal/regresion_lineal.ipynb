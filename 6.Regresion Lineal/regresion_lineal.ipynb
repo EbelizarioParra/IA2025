
{
 "cells": [
  {
   "cell_type": "markdown",
   "metadata": {},
   "source": [
    "# Regresión Lineal Interactiva\n",
    "Este cuaderno realiza una regresión lineal simple con sklearn y visualiza los resultados."
   ]
  },
  {
   "cell_type": "code",
   "execution_count": null,
   "metadata": {},
   "outputs": [],
   "source": [
    "import numpy as np\n",
    "import matplotlib.pyplot as plt\n",
    "from sklearn.linear_model import LinearRegression"
   ]
  },
  {
   "cell_type": "code",
   "execution_count": null,
   "metadata": {},
   "outputs": [],
   "source": [
    "# Datos\n",
    "x_valores = np.array([1, 2, 3, 4, 5]).reshape(-1, 1)\n",
    "y_valores = np.array([1.5, 3.0, 4.5, 6.0, 7.5])"
   ]
  },
  {
   "cell_type": "code",
   "execution_count": null,
   "metadata": {},
   "outputs": [],
   "source": [
    "# Modelo y entrenamiento\n",
    "regresion = LinearRegression()\n",
    "regresion.fit(x_valores, y_valores)\n",
    "y_pred = regresion.predict(x_valores)"
   ]
  },
  {
   "cell_type": "code",
   "execution_count": null,
   "metadata": {},
   "outputs": [],
   "source": [
    "# Mostrar parámetros del modelo\n",
    "print(f"Coeficiente (pendiente): {regresion.coef_[0]}")\n",
    "print(f"Intersección: {regresion.intercept_}")"
   ]
  },
  {
   "cell_type": "code",
   "execution_count": null,
   "metadata": {},
   "outputs": [],
   "source": [
    "# Visualización\n",
    "plt.figure(figsize=(8, 6))\n",
    "plt.scatter(x_valores, y_valores, color='blue', label='Datos originales')\n",
    "plt.plot(x_valores, y_pred, color='red', label='Línea de regresión')\n",
    "plt.title('Regresión Lineal')\n",
    "plt.xlabel('Variable X')\n",
    "plt.ylabel('Variable Y')\n",
    "plt.legend()\n",
    "plt.grid(True)\n",
    "plt.show()"
   ]
  }
 ],
 "metadata": {
  "kernelspec": {
   "display_name": "Python 3",
   "language": "python",
   "name": "python3"
  },
  "language_info": {
   "name": "python",
   "version": ""
  }
 },
 "nbformat": 4,
 "nbformat_minor": 4
}
